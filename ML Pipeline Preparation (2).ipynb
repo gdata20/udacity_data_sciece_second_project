{
 "cells": [
  {
   "cell_type": "markdown",
   "metadata": {},
   "source": [
    "# ML Pipeline Preparation\n",
    "Follow the instructions below to help you create your ML pipeline.\n",
    "### 1. Import libraries and load data from database.\n",
    "- Import Python libraries\n",
    "- Load dataset from database with [`read_sql_table`](https://pandas.pydata.org/pandas-docs/stable/generated/pandas.read_sql_table.html)\n",
    "- Define feature and target variables X and Y"
   ]
  },
  {
   "cell_type": "code",
   "execution_count": 2,
   "metadata": {},
   "outputs": [
    {
     "name": "stdout",
     "output_type": "stream",
     "text": [
      "[nltk_data] Downloading package punkt to /root/nltk_data...\n",
      "[nltk_data]   Unzipping tokenizers/punkt.zip.\n",
      "[nltk_data] Downloading package wordnet to /root/nltk_data...\n",
      "[nltk_data]   Unzipping corpora/wordnet.zip.\n",
      "[nltk_data] Downloading package stopwords to /root/nltk_data...\n",
      "[nltk_data]   Unzipping corpora/stopwords.zip.\n"
     ]
    }
   ],
   "source": [
    "# import libraries\n",
    "import os\n",
    "import re\n",
    "import pandas as pd\n",
    "from sqlalchemy import create_engine\n",
    "import matplotlib.pyplot as plt\n",
    "%matplotlib inline\n",
    "\n",
    "import nltk\n",
    "from nltk.corpus import stopwords\n",
    "from nltk.tokenize import word_tokenize\n",
    "from nltk.stem import WordNetLemmatizer\n",
    "from nltk.stem import PorterStemmer\n",
    "nltk.download(['punkt', 'wordnet', 'stopwords'])\n",
    "\n",
    "from sklearn.model_selection import train_test_split\n",
    "from sklearn.pipeline import Pipeline, FeatureUnion\n",
    "from sklearn.model_selection import GridSearchCV\n",
    "from sklearn.ensemble import RandomForestClassifier\n",
    "from sklearn.tree import DecisionTreeClassifier\n",
    "from sklearn.neighbors import KNeighborsClassifier\n",
    "from sklearn.multioutput import MultiOutputClassifier\n",
    "from sklearn.feature_extraction.text import CountVectorizer, TfidfTransformer\n",
    "from sklearn.base import BaseEstimator, TransformerMixin\n",
    "from sklearn.metrics import classification_report\n",
    "\n",
    "import pickle\n",
    "import warnings\n",
    "warnings.filterwarnings('ignore')"
   ]
  },
  {
   "cell_type": "code",
   "execution_count": 3,
   "metadata": {},
   "outputs": [],
   "source": [
    "# load data from database\n",
    "engine = create_engine('sqlite:///project3.db')\n",
    "df = pd.read_sql_table( 'disaster1',con=engine)\n",
    "\n",
    "X = df['message']\n",
    "y = df.drop(columns=['id', 'message', 'original', 'genre'], axis=1)\n",
    "\n"
   ]
  },
  {
   "cell_type": "markdown",
   "metadata": {},
   "source": [
    "### 2. Write a tokenization function to process your text data"
   ]
  },
  {
   "cell_type": "code",
   "execution_count": 4,
   "metadata": {},
   "outputs": [],
   "source": [
    "\n",
    "def tokenize(text):\n",
    "    # check if there are urls within the text\n",
    "    url_regex = 'http[s]?://(?:[a-zA-Z]|[0-9]|[$-_@.&+]|[!*\\(\\),]|(?:%[0-9a-fA-F][0-9a-fA-F]))+'\n",
    "    detected_urls = re.findall(url_regex,text)\n",
    "    for url in detected_urls:\n",
    "        text = text.replace(url,\"urlplaceholder\")\n",
    "    \n",
    "    # remove punctuation\n",
    "    text = re.sub(r\"[^a-zA-Z0-9]\",\" \",text)\n",
    "    \n",
    "    # tokenize the text\n",
    "    tokens = word_tokenize(text)\n",
    "    \n",
    "    # remove stop words\n",
    "    tokens = [tok for tok in tokens if tok not in stopwords.words(\"english\")]\n",
    "    \n",
    "    # lemmatization\n",
    "    lemmatizer = WordNetLemmatizer()\n",
    "    \n",
    "    clean_tokens = []\n",
    "    for tok in tokens:\n",
    "        clean_tok = lemmatizer.lemmatize(tok).lower().strip()\n",
    "        clean_tokens.append(clean_tok)\n",
    "        \n",
    "    return clean_tokens"
   ]
  },
  {
   "cell_type": "markdown",
   "metadata": {},
   "source": [
    "### 3. Build a machine learning pipeline\n",
    "This machine pipeline should take in the `message` column as input and output classification results on the other 36 categories in the dataset. You may find the [MultiOutputClassifier](http://scikit-learn.org/stable/modules/generated/sklearn.multioutput.MultiOutputClassifier.html) helpful for predicting multiple target variables."
   ]
  },
  {
   "cell_type": "code",
   "execution_count": 5,
   "metadata": {},
   "outputs": [],
   "source": [
    "# create a pipeline: a count vectorizer, a tfid transformer and a classifier\n",
    "rfc_pipe = Pipeline([\n",
    "    ('vect', CountVectorizer(tokenizer=tokenize)),\n",
    "    ('tfidf', TfidfTransformer()),\n",
    "    ('clf', MultiOutputClassifier(RandomForestClassifier()))\n",
    "])"
   ]
  },
  {
   "cell_type": "code",
   "execution_count": 6,
   "metadata": {},
   "outputs": [
    {
     "data": {
      "text/plain": [
       "{'memory': None,\n",
       " 'steps': [('vect',\n",
       "   CountVectorizer(analyzer='word', binary=False, decode_error='strict',\n",
       "           dtype=<class 'numpy.int64'>, encoding='utf-8', input='content',\n",
       "           lowercase=True, max_df=1.0, max_features=None, min_df=1,\n",
       "           ngram_range=(1, 1), preprocessor=None, stop_words=None,\n",
       "           strip_accents=None, token_pattern='(?u)\\\\b\\\\w\\\\w+\\\\b',\n",
       "           tokenizer=<function tokenize at 0x7fb032b53950>, vocabulary=None)),\n",
       "  ('tfidf',\n",
       "   TfidfTransformer(norm='l2', smooth_idf=True, sublinear_tf=False, use_idf=True)),\n",
       "  ('clf',\n",
       "   MultiOutputClassifier(estimator=RandomForestClassifier(bootstrap=True, class_weight=None, criterion='gini',\n",
       "               max_depth=None, max_features='auto', max_leaf_nodes=None,\n",
       "               min_impurity_decrease=0.0, min_impurity_split=None,\n",
       "               min_samples_leaf=1, min_samples_split=2,\n",
       "               min_weight_fraction_leaf=0.0, n_estimators=10, n_jobs=1,\n",
       "               oob_score=False, random_state=None, verbose=0,\n",
       "               warm_start=False),\n",
       "              n_jobs=1))],\n",
       " 'vect': CountVectorizer(analyzer='word', binary=False, decode_error='strict',\n",
       "         dtype=<class 'numpy.int64'>, encoding='utf-8', input='content',\n",
       "         lowercase=True, max_df=1.0, max_features=None, min_df=1,\n",
       "         ngram_range=(1, 1), preprocessor=None, stop_words=None,\n",
       "         strip_accents=None, token_pattern='(?u)\\\\b\\\\w\\\\w+\\\\b',\n",
       "         tokenizer=<function tokenize at 0x7fb032b53950>, vocabulary=None),\n",
       " 'tfidf': TfidfTransformer(norm='l2', smooth_idf=True, sublinear_tf=False, use_idf=True),\n",
       " 'clf': MultiOutputClassifier(estimator=RandomForestClassifier(bootstrap=True, class_weight=None, criterion='gini',\n",
       "             max_depth=None, max_features='auto', max_leaf_nodes=None,\n",
       "             min_impurity_decrease=0.0, min_impurity_split=None,\n",
       "             min_samples_leaf=1, min_samples_split=2,\n",
       "             min_weight_fraction_leaf=0.0, n_estimators=10, n_jobs=1,\n",
       "             oob_score=False, random_state=None, verbose=0,\n",
       "             warm_start=False),\n",
       "            n_jobs=1),\n",
       " 'vect__analyzer': 'word',\n",
       " 'vect__binary': False,\n",
       " 'vect__decode_error': 'strict',\n",
       " 'vect__dtype': numpy.int64,\n",
       " 'vect__encoding': 'utf-8',\n",
       " 'vect__input': 'content',\n",
       " 'vect__lowercase': True,\n",
       " 'vect__max_df': 1.0,\n",
       " 'vect__max_features': None,\n",
       " 'vect__min_df': 1,\n",
       " 'vect__ngram_range': (1, 1),\n",
       " 'vect__preprocessor': None,\n",
       " 'vect__stop_words': None,\n",
       " 'vect__strip_accents': None,\n",
       " 'vect__token_pattern': '(?u)\\\\b\\\\w\\\\w+\\\\b',\n",
       " 'vect__tokenizer': <function __main__.tokenize(text)>,\n",
       " 'vect__vocabulary': None,\n",
       " 'tfidf__norm': 'l2',\n",
       " 'tfidf__smooth_idf': True,\n",
       " 'tfidf__sublinear_tf': False,\n",
       " 'tfidf__use_idf': True,\n",
       " 'clf__estimator__bootstrap': True,\n",
       " 'clf__estimator__class_weight': None,\n",
       " 'clf__estimator__criterion': 'gini',\n",
       " 'clf__estimator__max_depth': None,\n",
       " 'clf__estimator__max_features': 'auto',\n",
       " 'clf__estimator__max_leaf_nodes': None,\n",
       " 'clf__estimator__min_impurity_decrease': 0.0,\n",
       " 'clf__estimator__min_impurity_split': None,\n",
       " 'clf__estimator__min_samples_leaf': 1,\n",
       " 'clf__estimator__min_samples_split': 2,\n",
       " 'clf__estimator__min_weight_fraction_leaf': 0.0,\n",
       " 'clf__estimator__n_estimators': 10,\n",
       " 'clf__estimator__n_jobs': 1,\n",
       " 'clf__estimator__oob_score': False,\n",
       " 'clf__estimator__random_state': None,\n",
       " 'clf__estimator__verbose': 0,\n",
       " 'clf__estimator__warm_start': False,\n",
       " 'clf__estimator': RandomForestClassifier(bootstrap=True, class_weight=None, criterion='gini',\n",
       "             max_depth=None, max_features='auto', max_leaf_nodes=None,\n",
       "             min_impurity_decrease=0.0, min_impurity_split=None,\n",
       "             min_samples_leaf=1, min_samples_split=2,\n",
       "             min_weight_fraction_leaf=0.0, n_estimators=10, n_jobs=1,\n",
       "             oob_score=False, random_state=None, verbose=0,\n",
       "             warm_start=False),\n",
       " 'clf__n_jobs': 1}"
      ]
     },
     "execution_count": 6,
     "metadata": {},
     "output_type": "execute_result"
    }
   ],
   "source": [
    "rfc_pipe.get_params()\n"
   ]
  },
  {
   "cell_type": "markdown",
   "metadata": {},
   "source": [
    "### 4. Train pipeline\n",
    "- Split data into train and test sets\n",
    "- Train pipeline"
   ]
  },
  {
   "cell_type": "code",
   "execution_count": 7,
   "metadata": {},
   "outputs": [
    {
     "data": {
      "text/plain": [
       "Pipeline(memory=None,\n",
       "     steps=[('vect', CountVectorizer(analyzer='word', binary=False, decode_error='strict',\n",
       "        dtype=<class 'numpy.int64'>, encoding='utf-8', input='content',\n",
       "        lowercase=True, max_df=1.0, max_features=None, min_df=1,\n",
       "        ngram_range=(1, 1), preprocessor=None, stop_words=None,\n",
       "        strip...oob_score=False, random_state=None, verbose=0,\n",
       "            warm_start=False),\n",
       "           n_jobs=1))])"
      ]
     },
     "execution_count": 7,
     "metadata": {},
     "output_type": "execute_result"
    }
   ],
   "source": [
    "\n",
    "# train test split\n",
    "X_train, X_test, y_train, y_test = train_test_split(X, y, test_size=0.25)\n",
    "\n",
    "# train the pipeline\n",
    "rfc_pipe.fit(X_train,y_train)"
   ]
  },
  {
   "cell_type": "code",
   "execution_count": 8,
   "metadata": {},
   "outputs": [
    {
     "data": {
      "text/html": [
       "<div>\n",
       "<style scoped>\n",
       "    .dataframe tbody tr th:only-of-type {\n",
       "        vertical-align: middle;\n",
       "    }\n",
       "\n",
       "    .dataframe tbody tr th {\n",
       "        vertical-align: top;\n",
       "    }\n",
       "\n",
       "    .dataframe thead th {\n",
       "        text-align: right;\n",
       "    }\n",
       "</style>\n",
       "<table border=\"1\" class=\"dataframe\">\n",
       "  <thead>\n",
       "    <tr style=\"text-align: right;\">\n",
       "      <th></th>\n",
       "      <th>related</th>\n",
       "      <th>request</th>\n",
       "      <th>offer</th>\n",
       "      <th>aid_related</th>\n",
       "      <th>medical_help</th>\n",
       "      <th>medical_products</th>\n",
       "      <th>search_and_rescue</th>\n",
       "      <th>security</th>\n",
       "      <th>military</th>\n",
       "      <th>child_alone</th>\n",
       "      <th>...</th>\n",
       "      <th>aid_centers</th>\n",
       "      <th>other_infrastructure</th>\n",
       "      <th>weather_related</th>\n",
       "      <th>floods</th>\n",
       "      <th>storm</th>\n",
       "      <th>fire</th>\n",
       "      <th>earthquake</th>\n",
       "      <th>cold</th>\n",
       "      <th>other_weather</th>\n",
       "      <th>direct_report</th>\n",
       "    </tr>\n",
       "  </thead>\n",
       "  <tbody>\n",
       "    <tr>\n",
       "      <th>13346</th>\n",
       "      <td>1</td>\n",
       "      <td>0</td>\n",
       "      <td>0</td>\n",
       "      <td>0</td>\n",
       "      <td>0</td>\n",
       "      <td>0</td>\n",
       "      <td>0</td>\n",
       "      <td>0</td>\n",
       "      <td>0</td>\n",
       "      <td>0</td>\n",
       "      <td>...</td>\n",
       "      <td>0</td>\n",
       "      <td>0</td>\n",
       "      <td>1</td>\n",
       "      <td>0</td>\n",
       "      <td>0</td>\n",
       "      <td>0</td>\n",
       "      <td>1</td>\n",
       "      <td>0</td>\n",
       "      <td>0</td>\n",
       "      <td>0</td>\n",
       "    </tr>\n",
       "    <tr>\n",
       "      <th>10648</th>\n",
       "      <td>1</td>\n",
       "      <td>0</td>\n",
       "      <td>0</td>\n",
       "      <td>0</td>\n",
       "      <td>0</td>\n",
       "      <td>0</td>\n",
       "      <td>0</td>\n",
       "      <td>0</td>\n",
       "      <td>0</td>\n",
       "      <td>0</td>\n",
       "      <td>...</td>\n",
       "      <td>0</td>\n",
       "      <td>0</td>\n",
       "      <td>1</td>\n",
       "      <td>1</td>\n",
       "      <td>0</td>\n",
       "      <td>0</td>\n",
       "      <td>0</td>\n",
       "      <td>0</td>\n",
       "      <td>0</td>\n",
       "      <td>0</td>\n",
       "    </tr>\n",
       "    <tr>\n",
       "      <th>11229</th>\n",
       "      <td>1</td>\n",
       "      <td>0</td>\n",
       "      <td>0</td>\n",
       "      <td>1</td>\n",
       "      <td>0</td>\n",
       "      <td>0</td>\n",
       "      <td>0</td>\n",
       "      <td>0</td>\n",
       "      <td>0</td>\n",
       "      <td>0</td>\n",
       "      <td>...</td>\n",
       "      <td>0</td>\n",
       "      <td>0</td>\n",
       "      <td>0</td>\n",
       "      <td>0</td>\n",
       "      <td>0</td>\n",
       "      <td>0</td>\n",
       "      <td>0</td>\n",
       "      <td>0</td>\n",
       "      <td>0</td>\n",
       "      <td>0</td>\n",
       "    </tr>\n",
       "    <tr>\n",
       "      <th>23632</th>\n",
       "      <td>1</td>\n",
       "      <td>0</td>\n",
       "      <td>0</td>\n",
       "      <td>1</td>\n",
       "      <td>1</td>\n",
       "      <td>0</td>\n",
       "      <td>0</td>\n",
       "      <td>0</td>\n",
       "      <td>0</td>\n",
       "      <td>0</td>\n",
       "      <td>...</td>\n",
       "      <td>0</td>\n",
       "      <td>0</td>\n",
       "      <td>1</td>\n",
       "      <td>1</td>\n",
       "      <td>1</td>\n",
       "      <td>0</td>\n",
       "      <td>0</td>\n",
       "      <td>0</td>\n",
       "      <td>0</td>\n",
       "      <td>0</td>\n",
       "    </tr>\n",
       "    <tr>\n",
       "      <th>15743</th>\n",
       "      <td>1</td>\n",
       "      <td>0</td>\n",
       "      <td>0</td>\n",
       "      <td>1</td>\n",
       "      <td>0</td>\n",
       "      <td>0</td>\n",
       "      <td>1</td>\n",
       "      <td>0</td>\n",
       "      <td>0</td>\n",
       "      <td>0</td>\n",
       "      <td>...</td>\n",
       "      <td>0</td>\n",
       "      <td>0</td>\n",
       "      <td>1</td>\n",
       "      <td>1</td>\n",
       "      <td>0</td>\n",
       "      <td>0</td>\n",
       "      <td>1</td>\n",
       "      <td>0</td>\n",
       "      <td>0</td>\n",
       "      <td>0</td>\n",
       "    </tr>\n",
       "  </tbody>\n",
       "</table>\n",
       "<p>5 rows × 36 columns</p>\n",
       "</div>"
      ],
      "text/plain": [
       "       related  request  offer  aid_related  medical_help  medical_products  \\\n",
       "13346        1        0      0            0             0                 0   \n",
       "10648        1        0      0            0             0                 0   \n",
       "11229        1        0      0            1             0                 0   \n",
       "23632        1        0      0            1             1                 0   \n",
       "15743        1        0      0            1             0                 0   \n",
       "\n",
       "       search_and_rescue  security  military  child_alone      ...        \\\n",
       "13346                  0         0         0            0      ...         \n",
       "10648                  0         0         0            0      ...         \n",
       "11229                  0         0         0            0      ...         \n",
       "23632                  0         0         0            0      ...         \n",
       "15743                  1         0         0            0      ...         \n",
       "\n",
       "       aid_centers  other_infrastructure  weather_related  floods  storm  \\\n",
       "13346            0                     0                1       0      0   \n",
       "10648            0                     0                1       1      0   \n",
       "11229            0                     0                0       0      0   \n",
       "23632            0                     0                1       1      1   \n",
       "15743            0                     0                1       1      0   \n",
       "\n",
       "       fire  earthquake  cold  other_weather  direct_report  \n",
       "13346     0           1     0              0              0  \n",
       "10648     0           0     0              0              0  \n",
       "11229     0           0     0              0              0  \n",
       "23632     0           0     0              0              0  \n",
       "15743     0           1     0              0              0  \n",
       "\n",
       "[5 rows x 36 columns]"
      ]
     },
     "execution_count": 8,
     "metadata": {},
     "output_type": "execute_result"
    }
   ],
   "source": [
    "y_test.head()"
   ]
  },
  {
   "cell_type": "code",
   "execution_count": 9,
   "metadata": {},
   "outputs": [
    {
     "data": {
      "text/plain": [
       "0    Weather update - a cold front from Cuba that c...\n",
       "1              Is the Hurricane over or is it not over\n",
       "2                      Looking for someone but no name\n",
       "3    UN reports Leogane 80-90 destroyed. Only Hospi...\n",
       "4    says: west side of Haiti, rest of the country ...\n",
       "Name: message, dtype: object"
      ]
     },
     "execution_count": 9,
     "metadata": {},
     "output_type": "execute_result"
    }
   ],
   "source": [
    "X.head()"
   ]
  },
  {
   "cell_type": "markdown",
   "metadata": {},
   "source": [
    "### 5. Test your model\n",
    "Report the f1 score, precision and recall for each output category of the dataset. You can do this by iterating through the columns and calling sklearn's `classification_report` on each."
   ]
  },
  {
   "cell_type": "code",
   "execution_count": 10,
   "metadata": {},
   "outputs": [],
   "source": [
    "# predict on train set\n",
    "y_rfc_trainpred = rfc_pipe.predict(X_train)"
   ]
  },
  {
   "cell_type": "code",
   "execution_count": 11,
   "metadata": {},
   "outputs": [],
   "source": [
    "y_train=y_train.reset_index(drop=True)"
   ]
  },
  {
   "cell_type": "code",
   "execution_count": 12,
   "metadata": {},
   "outputs": [
    {
     "data": {
      "text/html": [
       "<div>\n",
       "<style scoped>\n",
       "    .dataframe tbody tr th:only-of-type {\n",
       "        vertical-align: middle;\n",
       "    }\n",
       "\n",
       "    .dataframe tbody tr th {\n",
       "        vertical-align: top;\n",
       "    }\n",
       "\n",
       "    .dataframe thead th {\n",
       "        text-align: right;\n",
       "    }\n",
       "</style>\n",
       "<table border=\"1\" class=\"dataframe\">\n",
       "  <thead>\n",
       "    <tr style=\"text-align: right;\">\n",
       "      <th></th>\n",
       "      <th>related</th>\n",
       "      <th>request</th>\n",
       "      <th>offer</th>\n",
       "      <th>aid_related</th>\n",
       "      <th>medical_help</th>\n",
       "      <th>medical_products</th>\n",
       "      <th>search_and_rescue</th>\n",
       "      <th>security</th>\n",
       "      <th>military</th>\n",
       "      <th>child_alone</th>\n",
       "      <th>...</th>\n",
       "      <th>aid_centers</th>\n",
       "      <th>other_infrastructure</th>\n",
       "      <th>weather_related</th>\n",
       "      <th>floods</th>\n",
       "      <th>storm</th>\n",
       "      <th>fire</th>\n",
       "      <th>earthquake</th>\n",
       "      <th>cold</th>\n",
       "      <th>other_weather</th>\n",
       "      <th>direct_report</th>\n",
       "    </tr>\n",
       "  </thead>\n",
       "  <tbody>\n",
       "    <tr>\n",
       "      <th>0</th>\n",
       "      <td>1</td>\n",
       "      <td>0</td>\n",
       "      <td>0</td>\n",
       "      <td>0</td>\n",
       "      <td>0</td>\n",
       "      <td>0</td>\n",
       "      <td>0</td>\n",
       "      <td>0</td>\n",
       "      <td>0</td>\n",
       "      <td>0</td>\n",
       "      <td>...</td>\n",
       "      <td>0</td>\n",
       "      <td>0</td>\n",
       "      <td>0</td>\n",
       "      <td>0</td>\n",
       "      <td>0</td>\n",
       "      <td>0</td>\n",
       "      <td>0</td>\n",
       "      <td>0</td>\n",
       "      <td>0</td>\n",
       "      <td>0</td>\n",
       "    </tr>\n",
       "    <tr>\n",
       "      <th>1</th>\n",
       "      <td>1</td>\n",
       "      <td>0</td>\n",
       "      <td>0</td>\n",
       "      <td>0</td>\n",
       "      <td>0</td>\n",
       "      <td>0</td>\n",
       "      <td>0</td>\n",
       "      <td>0</td>\n",
       "      <td>0</td>\n",
       "      <td>0</td>\n",
       "      <td>...</td>\n",
       "      <td>0</td>\n",
       "      <td>0</td>\n",
       "      <td>0</td>\n",
       "      <td>0</td>\n",
       "      <td>0</td>\n",
       "      <td>0</td>\n",
       "      <td>0</td>\n",
       "      <td>0</td>\n",
       "      <td>0</td>\n",
       "      <td>0</td>\n",
       "    </tr>\n",
       "    <tr>\n",
       "      <th>2</th>\n",
       "      <td>1</td>\n",
       "      <td>0</td>\n",
       "      <td>0</td>\n",
       "      <td>1</td>\n",
       "      <td>0</td>\n",
       "      <td>1</td>\n",
       "      <td>0</td>\n",
       "      <td>0</td>\n",
       "      <td>0</td>\n",
       "      <td>0</td>\n",
       "      <td>...</td>\n",
       "      <td>0</td>\n",
       "      <td>0</td>\n",
       "      <td>0</td>\n",
       "      <td>0</td>\n",
       "      <td>0</td>\n",
       "      <td>0</td>\n",
       "      <td>0</td>\n",
       "      <td>0</td>\n",
       "      <td>0</td>\n",
       "      <td>0</td>\n",
       "    </tr>\n",
       "    <tr>\n",
       "      <th>3</th>\n",
       "      <td>1</td>\n",
       "      <td>0</td>\n",
       "      <td>0</td>\n",
       "      <td>1</td>\n",
       "      <td>0</td>\n",
       "      <td>0</td>\n",
       "      <td>0</td>\n",
       "      <td>0</td>\n",
       "      <td>0</td>\n",
       "      <td>0</td>\n",
       "      <td>...</td>\n",
       "      <td>0</td>\n",
       "      <td>0</td>\n",
       "      <td>0</td>\n",
       "      <td>0</td>\n",
       "      <td>0</td>\n",
       "      <td>0</td>\n",
       "      <td>0</td>\n",
       "      <td>0</td>\n",
       "      <td>0</td>\n",
       "      <td>1</td>\n",
       "    </tr>\n",
       "    <tr>\n",
       "      <th>4</th>\n",
       "      <td>1</td>\n",
       "      <td>0</td>\n",
       "      <td>0</td>\n",
       "      <td>1</td>\n",
       "      <td>0</td>\n",
       "      <td>0</td>\n",
       "      <td>0</td>\n",
       "      <td>0</td>\n",
       "      <td>0</td>\n",
       "      <td>0</td>\n",
       "      <td>...</td>\n",
       "      <td>0</td>\n",
       "      <td>0</td>\n",
       "      <td>0</td>\n",
       "      <td>0</td>\n",
       "      <td>0</td>\n",
       "      <td>0</td>\n",
       "      <td>0</td>\n",
       "      <td>0</td>\n",
       "      <td>0</td>\n",
       "      <td>0</td>\n",
       "    </tr>\n",
       "  </tbody>\n",
       "</table>\n",
       "<p>5 rows × 36 columns</p>\n",
       "</div>"
      ],
      "text/plain": [
       "   related  request  offer  aid_related  medical_help  medical_products  \\\n",
       "0        1        0      0            0             0                 0   \n",
       "1        1        0      0            0             0                 0   \n",
       "2        1        0      0            1             0                 1   \n",
       "3        1        0      0            1             0                 0   \n",
       "4        1        0      0            1             0                 0   \n",
       "\n",
       "   search_and_rescue  security  military  child_alone      ...        \\\n",
       "0                  0         0         0            0      ...         \n",
       "1                  0         0         0            0      ...         \n",
       "2                  0         0         0            0      ...         \n",
       "3                  0         0         0            0      ...         \n",
       "4                  0         0         0            0      ...         \n",
       "\n",
       "   aid_centers  other_infrastructure  weather_related  floods  storm  fire  \\\n",
       "0            0                     0                0       0      0     0   \n",
       "1            0                     0                0       0      0     0   \n",
       "2            0                     0                0       0      0     0   \n",
       "3            0                     0                0       0      0     0   \n",
       "4            0                     0                0       0      0     0   \n",
       "\n",
       "   earthquake  cold  other_weather  direct_report  \n",
       "0           0     0              0              0  \n",
       "1           0     0              0              0  \n",
       "2           0     0              0              0  \n",
       "3           0     0              0              1  \n",
       "4           0     0              0              0  \n",
       "\n",
       "[5 rows x 36 columns]"
      ]
     },
     "execution_count": 12,
     "metadata": {},
     "output_type": "execute_result"
    }
   ],
   "source": [
    "y_train.head()"
   ]
  },
  {
   "cell_type": "code",
   "execution_count": 13,
   "metadata": {},
   "outputs": [],
   "source": [
    "y_rfc_trainpred = pd.DataFrame(y_rfc_trainpred, columns = [y.columns.values])"
   ]
  },
  {
   "cell_type": "code",
   "execution_count": 22,
   "metadata": {},
   "outputs": [],
   "source": [
    "y_rfc_trainpred.reset_index(drop=True, inplace=True)"
   ]
  },
  {
   "cell_type": "code",
   "execution_count": 23,
   "metadata": {},
   "outputs": [
    {
     "data": {
      "text/plain": [
       "MultiIndex(levels=[['aid_centers', 'aid_related', 'buildings', 'child_alone', 'clothing', 'cold', 'death', 'direct_report', 'earthquake', 'electricity', 'fire', 'floods', 'food', 'hospitals', 'infrastructure_related', 'medical_help', 'medical_products', 'military', 'missing_people', 'money', 'offer', 'other_aid', 'other_infrastructure', 'other_weather', 'refugees', 'related', 'request', 'search_and_rescue', 'security', 'shelter', 'shops', 'storm', 'tools', 'transport', 'water', 'weather_related']],\n",
       "           labels=[[25, 26, 20, 1, 15, 16, 27, 28, 17, 3, 34, 12, 29, 4, 19, 18, 24, 6, 21, 14, 33, 2, 9, 32, 13, 30, 0, 22, 35, 11, 31, 10, 8, 5, 23, 7]])"
      ]
     },
     "execution_count": 23,
     "metadata": {},
     "output_type": "execute_result"
    }
   ],
   "source": [
    "y_rfc_trainpred.columns"
   ]
  },
  {
   "cell_type": "code",
   "execution_count": 24,
   "metadata": {},
   "outputs": [
    {
     "data": {
      "text/plain": [
       "Index(['related', 'request', 'offer', 'aid_related', 'medical_help',\n",
       "       'medical_products', 'search_and_rescue', 'security', 'military',\n",
       "       'child_alone', 'water', 'food', 'shelter', 'clothing', 'money',\n",
       "       'missing_people', 'refugees', 'death', 'other_aid',\n",
       "       'infrastructure_related', 'transport', 'buildings', 'electricity',\n",
       "       'tools', 'hospitals', 'shops', 'aid_centers', 'other_infrastructure',\n",
       "       'weather_related', 'floods', 'storm', 'fire', 'earthquake', 'cold',\n",
       "       'other_weather', 'direct_report'],\n",
       "      dtype='object')"
      ]
     },
     "execution_count": 24,
     "metadata": {},
     "output_type": "execute_result"
    }
   ],
   "source": [
    "y_train.columns"
   ]
  },
  {
   "cell_type": "code",
   "execution_count": 25,
   "metadata": {},
   "outputs": [
    {
     "ename": "ValueError",
     "evalue": "Unknown label type: (       related  request  offer  aid_related  medical_help  medical_products  \\\n0            1        0      0            0             0                 0   \n1            1        0      0            0             0                 0   \n2            1        0      0            1             0                 1   \n3            1        0      0            1             0                 0   \n4            1        0      0            1             0                 0   \n5            1        0      0            0             0                 0   \n6            0        0      0            0             0                 0   \n7            1        1      0            1             0                 0   \n8            1        0      0            1             0                 1   \n9            1        0      0            0             0                 0   \n10           1        0      0            1             0                 0   \n11           1        1      0            1             0                 0   \n12           1        0      0            0             0                 0   \n13           1        0      0            0             0                 0   \n14           1        1      0            1             0                 0   \n15           1        1      0            1             0                 0   \n16           1        0      0            1             0                 0   \n17           0        0      0            0             0                 0   \n18           1        0      0            1             0                 0   \n19           0        0      0            0             0                 0   \n20           1        1      0            1             0                 0   \n21           1        0      0            1             1                 1   \n22           1        0      0            0             0                 0   \n23           0        0      0            0             0                 0   \n24           1        1      0            0             0                 0   \n25           1        0      0            1             0                 0   \n26           0        0      0            0             0                 0   \n27           1        0      0            1             0                 0   \n28           1        0      0            1             0                 0   \n29           1        0      1            1             0                 1   \n...        ...      ...    ...          ...           ...               ...   \n19632        1        1      0            1             0                 0   \n19633        1        0      0            1             1                 0   \n19634        1        0      0            0             0                 0   \n19635        1        0      0            0             0                 0   \n19636        1        0      0            1             0                 0   \n19637        1        0      0            0             0                 0   \n19638        0        0      0            0             0                 0   \n19639        0        0      0            0             0                 0   \n19640        0        0      0            0             0                 0   \n19641        1        0      0            0             0                 0   \n19642        0        0      0            0             0                 0   \n19643        0        0      0            0             0                 0   \n19644        1        0      1            1             0                 0   \n19645        0        0      0            0             0                 0   \n19646        1        0      0            1             0                 0   \n19647        1        1      0            1             0                 0   \n19648        0        0      0            0             0                 0   \n19649        1        0      0            1             0                 0   \n19650        1        0      0            0             0                 0   \n19651        1        0      0            1             0                 0   \n19652        1        0      0            0             0                 0   \n19653        1        0      0            1             0                 0   \n19654        1        1      0            1             1                 1   \n19655        0        0      0            0             0                 0   \n19656        1        0      0            1             0                 0   \n19657        1        0      0            1             0                 0   \n19658        1        1      0            1             0                 0   \n19659        0        0      0            0             0                 0   \n19660        1        0      0            1             1                 0   \n19661        1        0      0            1             0                 0   \n\n       search_and_rescue  security  military  child_alone      ...        \\\n0                      0         0         0            0      ...         \n1                      0         0         0            0      ...         \n2                      0         0         0            0      ...         \n3                      0         0         0            0      ...         \n4                      0         0         0            0      ...         \n5                      0         0         0            0      ...         \n6                      0         0         0            0      ...         \n7                      0         0         0            0      ...         \n8                      0         0         0            0      ...         \n9                      0         0         0            0      ...         \n10                     1         0         0            0      ...         \n11                     0         0         0            0      ...         \n12                     0         0         0            0      ...         \n13                     0         0         0            0      ...         \n14                     0         0         0            0      ...         \n15                     0         0         0            0      ...         \n16                     0         0         0            0      ...         \n17                     0         0         0            0      ...         \n18                     0         0         0            0      ...         \n19                     0         0         0            0      ...         \n20                     0         0         0            0      ...         \n21                     0         0         0            0      ...         \n22                     0         0         0            0      ...         \n23                     0         0         0            0      ...         \n24                     0         0         0            0      ...         \n25                     0         0         1            0      ...         \n26                     0         0         0            0      ...         \n27                     0         0         0            0      ...         \n28                     0         0         0            0      ...         \n29                     0         0         0            0      ...         \n...                  ...       ...       ...          ...      ...         \n19632                  0         0         0            0      ...         \n19633                  0         0         0            0      ...         \n19634                  0         0         0            0      ...         \n19635                  0         0         0            0      ...         \n19636                  0         0         0            0      ...         \n19637                  0         0         0            0      ...         \n19638                  0         0         0            0      ...         \n19639                  0         0         0            0      ...         \n19640                  0         0         0            0      ...         \n19641                  0         0         0            0      ...         \n19642                  0         0         0            0      ...         \n19643                  0         0         0            0      ...         \n19644                  0         0         1            0      ...         \n19645                  0         0         0            0      ...         \n19646                  0         0         0            0      ...         \n19647                  0         0         0            0      ...         \n19648                  0         0         0            0      ...         \n19649                  0         0         0            0      ...         \n19650                  0         0         0            0      ...         \n19651                  1         0         0            0      ...         \n19652                  0         0         0            0      ...         \n19653                  0         0         0            0      ...         \n19654                  0         0         0            0      ...         \n19655                  0         0         0            0      ...         \n19656                  1         0         0            0      ...         \n19657                  0         0         0            0      ...         \n19658                  0         0         0            0      ...         \n19659                  0         0         0            0      ...         \n19660                  0         0         0            0      ...         \n19661                  0         0         1            0      ...         \n\n       aid_centers  other_infrastructure  weather_related  floods  storm  \\\n0                0                     0                0       0      0   \n1                0                     0                0       0      0   \n2                0                     0                0       0      0   \n3                0                     0                0       0      0   \n4                0                     0                0       0      0   \n5                0                     0                1       0      1   \n6                0                     0                0       0      0   \n7                0                     0                0       0      0   \n8                0                     0                0       0      0   \n9                0                     0                0       0      0   \n10               1                     1                1       1      1   \n11               0                     0                0       0      0   \n12               0                     1                1       0      1   \n13               0                     0                1       0      1   \n14               0                     0                0       0      0   \n15               0                     0                0       0      0   \n16               0                     0                1       1      0   \n17               0                     0                0       0      0   \n18               0                     0                0       0      0   \n19               0                     0                0       0      0   \n20               0                     0                1       0      0   \n21               1                     1                0       0      0   \n22               0                     1                0       0      0   \n23               0                     0                0       0      0   \n24               0                     0                0       0      0   \n25               0                     0                0       0      0   \n26               0                     0                0       0      0   \n27               0                     0                0       0      0   \n28               0                     0                0       0      0   \n29               0                     0                0       0      0   \n...            ...                   ...              ...     ...    ...   \n19632            0                     0                0       0      0   \n19633            0                     0                0       0      0   \n19634            0                     0                1       1      0   \n19635            0                     0                1       0      0   \n19636            0                     0                1       0      1   \n19637            0                     0                0       0      0   \n19638            0                     0                0       0      0   \n19639            0                     0                0       0      0   \n19640            0                     0                0       0      0   \n19641            0                     0                1       1      0   \n19642            0                     0                0       0      0   \n19643            0                     0                0       0      0   \n19644            0                     0                0       0      0   \n19645            0                     0                0       0      0   \n19646            0                     0                0       0      0   \n19647            0                     0                1       0      1   \n19648            0                     0                0       0      0   \n19649            0                     0                1       0      1   \n19650            0                     0                0       0      0   \n19651            0                     0                1       0      0   \n19652            0                     0                1       0      0   \n19653            0                     0                1       0      1   \n19654            0                     0                0       0      0   \n19655            0                     0                0       0      0   \n19656            1                     0                1       0      0   \n19657            0                     0                0       0      0   \n19658            0                     0                0       0      0   \n19659            0                     0                0       0      0   \n19660            0                     0                1       1      1   \n19661            0                     0                0       0      0   \n\n       fire  earthquake  cold  other_weather  direct_report  \n0         0           0     0              0              0  \n1         0           0     0              0              0  \n2         0           0     0              0              0  \n3         0           0     0              0              1  \n4         0           0     0              0              0  \n5         0           0     0              0              0  \n6         0           0     0              0              0  \n7         0           0     0              0              1  \n8         0           0     0              0              0  \n9         0           0     0              0              0  \n10        1           1     0              0              0  \n11        0           0     0              0              1  \n12        0           0     0              0              0  \n13        0           0     0              0              1  \n14        0           0     0              0              1  \n15        0           0     0              0              1  \n16        0           0     0              0              0  \n17        0           0     0              0              0  \n18        0           0     0              0              0  \n19        0           0     0              0              0  \n20        0           1     0              0              1  \n21        0           0     0              0              1  \n22        0           0     0              0              0  \n23        0           0     0              0              0  \n24        0           0     0              0              0  \n25        0           0     0              0              0  \n26        0           0     0              0              0  \n27        0           0     0              0              0  \n28        0           0     0              0              0  \n29        0           0     0              0              0  \n...     ...         ...   ...            ...            ...  \n19632     0           0     0              0              1  \n19633     0           0     0              0              0  \n19634     0           0     0              0              0  \n19635     0           1     0              0              0  \n19636     0           0     0              0              0  \n19637     0           0     0              0              0  \n19638     0           0     0              0              0  \n19639     0           0     0              0              0  \n19640     0           0     0              0              0  \n19641     0           0     0              0              0  \n19642     0           0     0              0              0  \n19643     0           0     0              0              0  \n19644     0           0     0              0              0  \n19645     0           0     0              0              0  \n19646     0           0     0              0              0  \n19647     0           0     0              0              1  \n19648     0           0     0              0              0  \n19649     0           1     0              0              0  \n19650     0           0     0              0              1  \n19651     0           1     0              0              0  \n19652     0           1     0              0              0  \n19653     0           0     0              0              0  \n19654     0           0     0              0              1  \n19655     0           0     0              0              0  \n19656     1           0     0              0              0  \n19657     0           0     0              0              0  \n19658     0           0     0              0              1  \n19659     0           0     0              0              0  \n19660     0           0     1              1              0  \n19661     0           0     0              0              0  \n\n[19662 rows x 36 columns],       related request offer aid_related medical_help medical_products  \\\n0           1       0     0           0            0                0   \n1           1       0     0           1            0                0   \n2           1       0     0           1            0                1   \n3           1       0     0           1            0                0   \n4           1       0     0           1            0                0   \n5           1       0     0           0            0                0   \n6           0       0     0           0            0                0   \n7           1       1     0           1            0                0   \n8           1       0     0           1            0                1   \n9           1       0     0           0            0                0   \n10          1       0     0           1            0                0   \n11          1       1     0           1            0                0   \n12          1       0     0           0            0                0   \n13          1       0     0           0            0                0   \n14          1       1     0           1            0                0   \n15          1       1     0           1            0                0   \n16          1       0     0           1            0                0   \n17          0       0     0           0            0                0   \n18          1       0     0           1            0                0   \n19          0       0     0           0            0                0   \n20          1       1     0           1            0                0   \n21          1       0     0           1            1                1   \n22          1       0     0           0            0                0   \n23          0       0     0           0            0                0   \n24          1       1     0           0            0                0   \n25          1       0     0           1            0                0   \n26          0       0     0           0            0                0   \n27          1       0     0           1            0                0   \n28          1       0     0           1            0                0   \n29          1       0     1           1            0                1   \n...       ...     ...   ...         ...          ...              ...   \n19632       1       1     0           1            0                0   \n19633       1       0     0           1            1                0   \n19634       1       0     0           0            0                0   \n19635       1       0     0           0            0                0   \n19636       1       0     0           1            0                0   \n19637       1       0     0           0            0                0   \n19638       0       0     0           0            0                0   \n19639       0       0     0           0            0                0   \n19640       0       0     0           0            0                0   \n19641       1       0     0           0            0                0   \n19642       0       0     0           0            0                0   \n19643       0       0     0           0            0                0   \n19644       1       0     1           1            0                0   \n19645       0       0     0           0            0                0   \n19646       1       0     0           1            0                0   \n19647       1       1     0           1            0                0   \n19648       0       0     0           0            0                0   \n19649       1       0     0           1            0                0   \n19650       1       0     0           0            0                0   \n19651       1       0     0           1            0                0   \n19652       1       0     0           0            0                0   \n19653       1       0     0           1            0                0   \n19654       1       1     0           1            1                1   \n19655       0       0     0           0            0                0   \n19656       1       0     0           1            0                0   \n19657       1       0     0           1            0                0   \n19658       1       1     0           1            0                0   \n19659       0       0     0           0            0                0   \n19660       1       0     0           1            1                0   \n19661       1       0     0           1            0                0   \n\n      search_and_rescue security military child_alone      ...       \\\n0                     0        0        0           0      ...        \n1                     0        0        0           0      ...        \n2                     0        0        0           0      ...        \n3                     0        0        0           0      ...        \n4                     0        0        0           0      ...        \n5                     0        0        0           0      ...        \n6                     0        0        0           0      ...        \n7                     0        0        0           0      ...        \n8                     0        0        0           0      ...        \n9                     0        0        0           0      ...        \n10                    1        0        0           0      ...        \n11                    0        0        0           0      ...        \n12                    0        0        0           0      ...        \n13                    0        0        0           0      ...        \n14                    0        0        0           0      ...        \n15                    0        0        0           0      ...        \n16                    0        0        0           0      ...        \n17                    0        0        0           0      ...        \n18                    0        0        0           0      ...        \n19                    0        0        0           0      ...        \n20                    0        0        0           0      ...        \n21                    0        0        0           0      ...        \n22                    0        0        0           0      ...        \n23                    0        0        0           0      ...        \n24                    0        0        0           0      ...        \n25                    0        0        1           0      ...        \n26                    0        0        0           0      ...        \n27                    0        0        0           0      ...        \n28                    0        0        0           0      ...        \n29                    0        0        0           0      ...        \n...                 ...      ...      ...         ...      ...        \n19632                 0        0        0           0      ...        \n19633                 0        0        0           0      ...        \n19634                 0        0        0           0      ...        \n19635                 0        0        0           0      ...        \n19636                 0        0        0           0      ...        \n19637                 0        0        0           0      ...        \n19638                 0        0        0           0      ...        \n19639                 0        0        0           0      ...        \n19640                 0        0        0           0      ...        \n19641                 0        0        0           0      ...        \n19642                 0        0        0           0      ...        \n19643                 0        0        0           0      ...        \n19644                 0        0        0           0      ...        \n19645                 0        0        0           0      ...        \n19646                 0        0        0           0      ...        \n19647                 0        0        0           0      ...        \n19648                 0        0        0           0      ...        \n19649                 0        0        0           0      ...        \n19650                 0        0        0           0      ...        \n19651                 1        0        0           0      ...        \n19652                 0        0        0           0      ...        \n19653                 0        0        0           0      ...        \n19654                 0        0        0           0      ...        \n19655                 0        0        0           0      ...        \n19656                 0        0        0           0      ...        \n19657                 0        0        0           0      ...        \n19658                 0        0        0           0      ...        \n19659                 0        0        0           0      ...        \n19660                 0        0        0           0      ...        \n19661                 0        0        1           0      ...        \n\n      aid_centers other_infrastructure weather_related floods storm fire  \\\n0               0                    0               0      0     0    0   \n1               0                    0               0      0     0    0   \n2               0                    0               0      0     0    0   \n3               0                    0               0      0     0    0   \n4               0                    0               0      0     0    0   \n5               0                    0               1      0     1    0   \n6               0                    0               0      0     0    0   \n7               0                    0               0      0     0    0   \n8               0                    0               0      0     0    0   \n9               0                    0               0      0     0    0   \n10              1                    1               1      1     1    1   \n11              0                    0               0      0     0    0   \n12              0                    1               1      0     1    0   \n13              0                    0               1      0     0    0   \n14              0                    0               0      0     0    0   \n15              0                    0               0      0     0    0   \n16              0                    0               1      1     0    0   \n17              0                    0               0      0     0    0   \n18              0                    0               0      0     0    0   \n19              0                    0               0      0     0    0   \n20              0                    0               1      0     0    0   \n21              1                    0               0      0     0    0   \n22              0                    1               0      0     0    0   \n23              0                    0               0      0     0    0   \n24              0                    0               0      0     0    0   \n25              0                    0               0      0     0    0   \n26              0                    0               0      0     0    0   \n27              0                    0               0      0     0    0   \n28              0                    0               0      0     0    0   \n29              0                    0               0      0     0    0   \n...           ...                  ...             ...    ...   ...  ...   \n19632           0                    0               0      0     0    0   \n19633           0                    0               0      0     0    0   \n19634           0                    0               1      1     0    0   \n19635           0                    0               1      0     0    0   \n19636           0                    0               1      0     1    0   \n19637           0                    0               0      0     0    0   \n19638           0                    0               0      0     0    0   \n19639           0                    0               0      0     0    0   \n19640           0                    0               0      0     0    0   \n19641           0                    0               1      1     0    0   \n19642           0                    0               0      0     0    0   \n19643           0                    0               0      0     0    0   \n19644           0                    0               0      0     0    0   \n19645           0                    0               0      0     0    0   \n19646           0                    0               0      0     0    0   \n19647           0                    0               0      0     1    0   \n19648           0                    0               0      0     0    0   \n19649           0                    0               1      0     1    0   \n19650           0                    0               0      0     0    0   \n19651           0                    0               1      0     0    0   \n19652           0                    0               1      0     0    0   \n19653           0                    0               1      0     0    0   \n19654           0                    0               0      0     0    0   \n19655           0                    0               0      0     0    0   \n19656           1                    0               1      0     0    1   \n19657           0                    0               0      0     0    0   \n19658           0                    0               0      0     0    0   \n19659           0                    0               0      0     0    0   \n19660           0                    0               1      1     1    0   \n19661           0                    0               0      0     0    0   \n\n      earthquake cold other_weather direct_report  \n0              0    0             0             0  \n1              0    0             0             0  \n2              0    0             0             0  \n3              0    0             0             0  \n4              0    0             0             0  \n5              0    0             0             0  \n6              0    0             0             0  \n7              0    0             0             1  \n8              0    0             0             0  \n9              0    0             0             0  \n10             1    0             0             0  \n11             0    0             0             1  \n12             0    0             0             0  \n13             0    0             0             1  \n14             0    0             0             1  \n15             0    0             0             1  \n16             0    0             0             0  \n17             0    0             0             0  \n18             0    0             0             0  \n19             0    0             0             0  \n20             1    0             0             1  \n21             0    0             0             0  \n22             0    0             0             0  \n23             0    0             0             0  \n24             0    0             0             0  \n25             0    0             0             0  \n26             0    0             0             0  \n27             0    0             0             0  \n28             0    0             0             0  \n29             0    0             0             0  \n...          ...  ...           ...           ...  \n19632          0    0             0             1  \n19633          0    0             0             0  \n19634          0    0             0             0  \n19635          1    0             0             0  \n19636          0    0             0             0  \n19637          0    0             0             0  \n19638          0    0             0             0  \n19639          0    0             0             0  \n19640          0    0             0             0  \n19641          0    0             0             0  \n19642          0    0             0             0  \n19643          0    0             0             0  \n19644          0    0             0             0  \n19645          0    0             0             0  \n19646          0    0             0             0  \n19647          0    0             0             1  \n19648          0    0             0             0  \n19649          0    0             0             0  \n19650          0    0             0             1  \n19651          1    0             0             0  \n19652          1    0             0             0  \n19653          0    0             0             0  \n19654          0    0             0             1  \n19655          0    0             0             0  \n19656          0    0             0             0  \n19657          0    0             0             0  \n19658          0    0             0             1  \n19659          0    0             0             0  \n19660          0    0             1             0  \n19661          0    0             0             0  \n\n[19662 rows x 36 columns])",
     "output_type": "error",
     "traceback": [
      "\u001b[0;31m---------------------------------------------------------------------------\u001b[0m",
      "\u001b[0;31mValueError\u001b[0m                                Traceback (most recent call last)",
      "\u001b[0;32m<ipython-input-25-cba603aca91e>\u001b[0m in \u001b[0;36m<module>\u001b[0;34m()\u001b[0m\n\u001b[1;32m      1\u001b[0m \u001b[0;31m# classification report on train set\u001b[0m\u001b[0;34m\u001b[0m\u001b[0;34m\u001b[0m\u001b[0m\n\u001b[0;32m----> 2\u001b[0;31m \u001b[0mprint\u001b[0m\u001b[0;34m(\u001b[0m\u001b[0mclassification_report\u001b[0m\u001b[0;34m(\u001b[0m\u001b[0my_train\u001b[0m\u001b[0;34m,\u001b[0m \u001b[0my_rfc_trainpred\u001b[0m\u001b[0;34m,\u001b[0m \u001b[0mtarget_names\u001b[0m\u001b[0;34m=\u001b[0m\u001b[0my\u001b[0m\u001b[0;34m.\u001b[0m\u001b[0mcolumns\u001b[0m\u001b[0;34m.\u001b[0m\u001b[0mvalues\u001b[0m\u001b[0;34m)\u001b[0m\u001b[0;34m)\u001b[0m\u001b[0;34m\u001b[0m\u001b[0m\n\u001b[0m",
      "\u001b[0;32m/opt/conda/lib/python3.6/site-packages/sklearn/metrics/classification.py\u001b[0m in \u001b[0;36mclassification_report\u001b[0;34m(y_true, y_pred, labels, target_names, sample_weight, digits)\u001b[0m\n\u001b[1;32m   1419\u001b[0m \u001b[0;34m\u001b[0m\u001b[0m\n\u001b[1;32m   1420\u001b[0m     \u001b[0;32mif\u001b[0m \u001b[0mlabels\u001b[0m \u001b[0;32mis\u001b[0m \u001b[0;32mNone\u001b[0m\u001b[0;34m:\u001b[0m\u001b[0;34m\u001b[0m\u001b[0m\n\u001b[0;32m-> 1421\u001b[0;31m         \u001b[0mlabels\u001b[0m \u001b[0;34m=\u001b[0m \u001b[0munique_labels\u001b[0m\u001b[0;34m(\u001b[0m\u001b[0my_true\u001b[0m\u001b[0;34m,\u001b[0m \u001b[0my_pred\u001b[0m\u001b[0;34m)\u001b[0m\u001b[0;34m\u001b[0m\u001b[0m\n\u001b[0m\u001b[1;32m   1422\u001b[0m     \u001b[0;32melse\u001b[0m\u001b[0;34m:\u001b[0m\u001b[0;34m\u001b[0m\u001b[0m\n\u001b[1;32m   1423\u001b[0m         \u001b[0mlabels\u001b[0m \u001b[0;34m=\u001b[0m \u001b[0mnp\u001b[0m\u001b[0;34m.\u001b[0m\u001b[0masarray\u001b[0m\u001b[0;34m(\u001b[0m\u001b[0mlabels\u001b[0m\u001b[0;34m)\u001b[0m\u001b[0;34m\u001b[0m\u001b[0m\n",
      "\u001b[0;32m/opt/conda/lib/python3.6/site-packages/sklearn/utils/multiclass.py\u001b[0m in \u001b[0;36munique_labels\u001b[0;34m(*ys)\u001b[0m\n\u001b[1;32m     95\u001b[0m     \u001b[0m_unique_labels\u001b[0m \u001b[0;34m=\u001b[0m \u001b[0m_FN_UNIQUE_LABELS\u001b[0m\u001b[0;34m.\u001b[0m\u001b[0mget\u001b[0m\u001b[0;34m(\u001b[0m\u001b[0mlabel_type\u001b[0m\u001b[0;34m,\u001b[0m \u001b[0;32mNone\u001b[0m\u001b[0;34m)\u001b[0m\u001b[0;34m\u001b[0m\u001b[0m\n\u001b[1;32m     96\u001b[0m     \u001b[0;32mif\u001b[0m \u001b[0;32mnot\u001b[0m \u001b[0m_unique_labels\u001b[0m\u001b[0;34m:\u001b[0m\u001b[0;34m\u001b[0m\u001b[0m\n\u001b[0;32m---> 97\u001b[0;31m         \u001b[0;32mraise\u001b[0m \u001b[0mValueError\u001b[0m\u001b[0;34m(\u001b[0m\u001b[0;34m\"Unknown label type: %s\"\u001b[0m \u001b[0;34m%\u001b[0m \u001b[0mrepr\u001b[0m\u001b[0;34m(\u001b[0m\u001b[0mys\u001b[0m\u001b[0;34m)\u001b[0m\u001b[0;34m)\u001b[0m\u001b[0;34m\u001b[0m\u001b[0m\n\u001b[0m\u001b[1;32m     98\u001b[0m \u001b[0;34m\u001b[0m\u001b[0m\n\u001b[1;32m     99\u001b[0m     \u001b[0mys_labels\u001b[0m \u001b[0;34m=\u001b[0m \u001b[0mset\u001b[0m\u001b[0;34m(\u001b[0m\u001b[0mchain\u001b[0m\u001b[0;34m.\u001b[0m\u001b[0mfrom_iterable\u001b[0m\u001b[0;34m(\u001b[0m\u001b[0m_unique_labels\u001b[0m\u001b[0;34m(\u001b[0m\u001b[0my\u001b[0m\u001b[0;34m)\u001b[0m \u001b[0;32mfor\u001b[0m \u001b[0my\u001b[0m \u001b[0;32min\u001b[0m \u001b[0mys\u001b[0m\u001b[0;34m)\u001b[0m\u001b[0;34m)\u001b[0m\u001b[0;34m\u001b[0m\u001b[0m\n",
      "\u001b[0;31mValueError\u001b[0m: Unknown label type: (       related  request  offer  aid_related  medical_help  medical_products  \\\n0            1        0      0            0             0                 0   \n1            1        0      0            0             0                 0   \n2            1        0      0            1             0                 1   \n3            1        0      0            1             0                 0   \n4            1        0      0            1             0                 0   \n5            1        0      0            0             0                 0   \n6            0        0      0            0             0                 0   \n7            1        1      0            1             0                 0   \n8            1        0      0            1             0                 1   \n9            1        0      0            0             0                 0   \n10           1        0      0            1             0                 0   \n11           1        1      0            1             0                 0   \n12           1        0      0            0             0                 0   \n13           1        0      0            0             0                 0   \n14           1        1      0            1             0                 0   \n15           1        1      0            1             0                 0   \n16           1        0      0            1             0                 0   \n17           0        0      0            0             0                 0   \n18           1        0      0            1             0                 0   \n19           0        0      0            0             0                 0   \n20           1        1      0            1             0                 0   \n21           1        0      0            1             1                 1   \n22           1        0      0            0             0                 0   \n23           0        0      0            0             0                 0   \n24           1        1      0            0             0                 0   \n25           1        0      0            1             0                 0   \n26           0        0      0            0             0                 0   \n27           1        0      0            1             0                 0   \n28           1        0      0            1             0                 0   \n29           1        0      1            1             0                 1   \n...        ...      ...    ...          ...           ...               ...   \n19632        1        1      0            1             0                 0   \n19633        1        0      0            1             1                 0   \n19634        1        0      0            0             0                 0   \n19635        1        0      0            0             0                 0   \n19636        1        0      0            1             0                 0   \n19637        1        0      0            0             0                 0   \n19638        0        0      0            0             0                 0   \n19639        0        0      0            0             0                 0   \n19640        0        0      0            0             0                 0   \n19641        1        0      0            0             0                 0   \n19642        0        0      0            0             0                 0   \n19643        0        0      0            0             0                 0   \n19644        1        0      1            1             0                 0   \n19645        0        0      0            0             0                 0   \n19646        1        0      0            1             0                 0   \n19647        1        1      0            1             0                 0   \n19648        0        0      0            0             0                 0   \n19649        1        0      0            1             0                 0   \n19650        1        0      0            0             0                 0   \n19651        1        0      0            1             0                 0   \n19652        1        0      0            0             0                 0   \n19653        1        0      0            1             0                 0   \n19654        1        1      0            1             1                 1   \n19655        0        0      0            0             0                 0   \n19656        1        0      0            1             0                 0   \n19657        1        0      0            1             0                 0   \n19658        1        1      0            1             0                 0   \n19659        0        0      0            0             0                 0   \n19660        1        0      0            1             1                 0   \n19661        1        0      0            1             0                 0   \n\n       search_and_rescue  security  military  child_alone      ...        \\\n0                      0         0         0            0      ...         \n1                      0         0         0            0      ...         \n2                      0         0         0            0      ...         \n3                      0         0         0            0      ...         \n4                      0         0         0            0      ...         \n5                      0         0         0            0      ...         \n6                      0         0         0            0      ...         \n7                      0         0         0            0      ...         \n8                      0         0         0            0      ...         \n9                      0         0         0            0      ...         \n10                     1         0         0            0      ...         \n11                     0         0         0            0      ...         \n12                     0         0         0            0      ...         \n13                     0         0         0            0      ...         \n14                     0         0         0            0      ...         \n15                     0         0         0            0      ...         \n16                     0         0         0            0      ...         \n17                     0         0         0            0      ...         \n18                     0         0         0            0      ...         \n19                     0         0         0            0      ...         \n20                     0         0         0            0      ...         \n21                     0         0         0            0      ...         \n22                     0         0         0            0      ...         \n23                     0         0         0            0      ...         \n24                     0         0         0            0      ...         \n25                     0         0         1            0      ...         \n26                     0         0         0            0      ...         \n27                     0         0         0            0      ...         \n28                     0         0         0            0      ...         \n29                     0         0         0            0      ...         \n...                  ...       ...       ...          ...      ...         \n19632                  0         0         0            0      ...         \n19633                  0         0         0            0      ...         \n19634                  0         0         0            0      ...         \n19635                  0         0         0            0      ...         \n19636                  0         0         0            0      ...         \n19637                  0         0         0            0      ...         \n19638                  0         0         0            0      ...         \n19639                  0         0         0            0      ...         \n19640                  0         0         0            0      ...         \n19641                  0         0         0            0      ...         \n19642                  0         0         0            0      ...         \n19643                  0         0         0            0      ...         \n19644                  0         0         1            0      ...         \n19645                  0         0         0            0      ...         \n19646                  0         0         0            0      ...         \n19647                  0         0         0            0      ...         \n19648                  0         0         0            0      ...         \n19649                  0         0         0            0      ...         \n19650                  0         0         0            0      ...         \n19651                  1         0         0            0      ...         \n19652                  0         0         0            0      ...         \n19653                  0         0         0            0      ...         \n19654                  0         0         0            0      ...         \n19655                  0         0         0            0      ...         \n19656                  1         0         0            0      ...         \n19657                  0         0         0            0      ...         \n19658                  0         0         0            0      ...         \n19659                  0         0         0            0      ...         \n19660                  0         0         0            0      ...         \n19661                  0         0         1            0      ...         \n\n       aid_centers  other_infrastructure  weather_related  floods  storm  \\\n0                0                     0                0       0      0   \n1                0                     0                0       0      0   \n2                0                     0                0       0      0   \n3                0                     0                0       0      0   \n4                0                     0                0       0      0   \n5                0                     0                1       0      1   \n6                0                     0                0       0      0   \n7                0                     0                0       0      0   \n8                0                     0                0       0      0   \n9                0                     0                0       0      0   \n10               1                     1                1       1      1   \n11               0                     0                0       0      0   \n12               0                     1                1       0      1   \n13               0                     0                1       0      1   \n14               0                     0                0       0      0   \n15               0                     0                0       0      0   \n16               0                     0                1       1      0   \n17               0                     0                0       0      0   \n18               0                     0                0       0      0   \n19               0                     0                0       0      0   \n20               0                     0                1       0      0   \n21               1                     1                0       0      0   \n22               0                     1                0       0      0   \n23               0                     0                0       0      0   \n24               0                     0                0       0      0   \n25               0                     0                0       0      0   \n26               0                     0                0       0      0   \n27               0                     0                0       0      0   \n28               0                     0                0       0      0   \n29               0                     0                0       0      0   \n...            ...                   ...              ...     ...    ...   \n19632            0                     0                0       0      0   \n19633            0                     0                0       0      0   \n19634            0                     0                1       1      0   \n19635            0                     0                1       0      0   \n19636            0                     0                1       0      1   \n19637            0                     0                0       0      0   \n19638            0                     0                0       0      0   \n19639            0                     0                0       0      0   \n19640            0                     0                0       0      0   \n19641            0                     0                1       1      0   \n19642            0                     0                0       0      0   \n19643            0                     0                0       0      0   \n19644            0                     0                0       0      0   \n19645            0                     0                0       0      0   \n19646            0                     0                0       0      0   \n19647            0                     0                1       0      1   \n19648            0                     0                0       0      0   \n19649            0                     0                1       0      1   \n19650            0                     0                0       0      0   \n19651            0                     0                1       0      0   \n19652            0                     0                1       0      0   \n19653            0                     0                1       0      1   \n19654            0                     0                0       0      0   \n19655            0                     0                0       0      0   \n19656            1                     0                1       0      0   \n19657            0                     0                0       0      0   \n19658            0                     0                0       0      0   \n19659            0                     0                0       0      0   \n19660            0                     0                1       1      1   \n19661            0                     0                0       0      0   \n\n       fire  earthquake  cold  other_weather  direct_report  \n0         0           0     0              0              0  \n1         0           0     0              0              0  \n2         0           0     0              0              0  \n3         0           0     0              0              1  \n4         0           0     0              0              0  \n5         0           0     0              0              0  \n6         0           0     0              0              0  \n7         0           0     0              0              1  \n8         0           0     0              0              0  \n9         0           0     0              0              0  \n10        1           1     0              0              0  \n11        0           0     0              0              1  \n12        0           0     0              0              0  \n13        0           0     0              0              1  \n14        0           0     0              0              1  \n15        0           0     0              0              1  \n16        0           0     0              0              0  \n17        0           0     0              0              0  \n18        0           0     0              0              0  \n19        0           0     0              0              0  \n20        0           1     0              0              1  \n21        0           0     0              0              1  \n22        0           0     0              0              0  \n23        0           0     0              0              0  \n24        0           0     0              0              0  \n25        0           0     0              0              0  \n26        0           0     0              0              0  \n27        0           0     0              0              0  \n28        0           0     0              0              0  \n29        0           0     0              0              0  \n...     ...         ...   ...            ...            ...  \n19632     0           0     0              0              1  \n19633     0           0     0              0              0  \n19634     0           0     0              0              0  \n19635     0           1     0              0              0  \n19636     0           0     0              0              0  \n19637     0           0     0              0              0  \n19638     0           0     0              0              0  \n19639     0           0     0              0              0  \n19640     0           0     0              0              0  \n19641     0           0     0              0              0  \n19642     0           0     0              0              0  \n19643     0           0     0              0              0  \n19644     0           0     0              0              0  \n19645     0           0     0              0              0  \n19646     0           0     0              0              0  \n19647     0           0     0              0              1  \n19648     0           0     0              0              0  \n19649     0           1     0              0              0  \n19650     0           0     0              0              1  \n19651     0           1     0              0              0  \n19652     0           1     0              0              0  \n19653     0           0     0              0              0  \n19654     0           0     0              0              1  \n19655     0           0     0              0              0  \n19656     1           0     0              0              0  \n19657     0           0     0              0              0  \n19658     0           0     0              0              1  \n19659     0           0     0              0              0  \n19660     0           0     1              1              0  \n19661     0           0     0              0              0  \n\n[19662 rows x 36 columns],       related request offer aid_related medical_help medical_products  \\\n0           1       0     0           0            0                0   \n1           1       0     0           1            0                0   \n2           1       0     0           1            0                1   \n3           1       0     0           1            0                0   \n4           1       0     0           1            0                0   \n5           1       0     0           0            0                0   \n6           0       0     0           0            0                0   \n7           1       1     0           1            0                0   \n8           1       0     0           1            0                1   \n9           1       0     0           0            0                0   \n10          1       0     0           1            0                0   \n11          1       1     0           1            0                0   \n12          1       0     0           0            0                0   \n13          1       0     0           0            0                0   \n14          1       1     0           1            0                0   \n15          1       1     0           1            0                0   \n16          1       0     0           1            0                0   \n17          0       0     0           0            0                0   \n18          1       0     0           1            0                0   \n19          0       0     0           0            0                0   \n20          1       1     0           1            0                0   \n21          1       0     0           1            1                1   \n22          1       0     0           0            0                0   \n23          0       0     0           0            0                0   \n24          1       1     0           0            0                0   \n25          1       0     0           1            0                0   \n26          0       0     0           0            0                0   \n27          1       0     0           1            0                0   \n28          1       0     0           1            0                0   \n29          1       0     1           1            0                1   \n...       ...     ...   ...         ...          ...              ...   \n19632       1       1     0           1            0                0   \n19633       1       0     0           1            1                0   \n19634       1       0     0           0            0                0   \n19635       1       0     0           0            0                0   \n19636       1       0     0           1            0                0   \n19637       1       0     0           0            0                0   \n19638       0       0     0           0            0                0   \n19639       0       0     0           0            0                0   \n19640       0       0     0           0            0                0   \n19641       1       0     0           0            0                0   \n19642       0       0     0           0            0                0   \n19643       0       0     0           0            0                0   \n19644       1       0     1           1            0                0   \n19645       0       0     0           0            0                0   \n19646       1       0     0           1            0                0   \n19647       1       1     0           1            0                0   \n19648       0       0     0           0            0                0   \n19649       1       0     0           1            0                0   \n19650       1       0     0           0            0                0   \n19651       1       0     0           1            0                0   \n19652       1       0     0           0            0                0   \n19653       1       0     0           1            0                0   \n19654       1       1     0           1            1                1   \n19655       0       0     0           0            0                0   \n19656       1       0     0           1            0                0   \n19657       1       0     0           1            0                0   \n19658       1       1     0           1            0                0   \n19659       0       0     0           0            0                0   \n19660       1       0     0           1            1                0   \n19661       1       0     0           1            0                0   \n\n      search_and_rescue security military child_alone      ...       \\\n0                     0        0        0           0      ...        \n1                     0        0        0           0      ...        \n2                     0        0        0           0      ...        \n3                     0        0        0           0      ...        \n4                     0        0        0           0      ...        \n5                     0        0        0           0      ...        \n6                     0        0        0           0      ...        \n7                     0        0        0           0      ...        \n8                     0        0        0           0      ...        \n9                     0        0        0           0      ...        \n10                    1        0        0           0      ...        \n11                    0        0        0           0      ...        \n12                    0        0        0           0      ...        \n13                    0        0        0           0      ...        \n14                    0        0        0           0      ...        \n15                    0        0        0           0      ...        \n16                    0        0        0           0      ...        \n17                    0        0        0           0      ...        \n18                    0        0        0           0      ...        \n19                    0        0        0           0      ...        \n20                    0        0        0           0      ...        \n21                    0        0        0           0      ...        \n22                    0        0        0           0      ...        \n23                    0        0        0           0      ...        \n24                    0        0        0           0      ...        \n25                    0        0        1           0      ...        \n26                    0        0        0           0      ...        \n27                    0        0        0           0      ...        \n28                    0        0        0           0      ...        \n29                    0        0        0           0      ...        \n...                 ...      ...      ...         ...      ...        \n19632                 0        0        0           0      ...        \n19633                 0        0        0           0      ...        \n19634                 0        0        0           0      ...        \n19635                 0        0        0           0      ...        \n19636                 0        0        0           0      ...        \n19637                 0        0        0           0      ...        \n19638                 0        0        0           0      ...        \n19639                 0        0        0           0      ...        \n19640                 0        0        0           0      ...        \n19641                 0        0        0           0      ...        \n19642                 0        0        0           0      ...        \n19643                 0        0        0           0      ...        \n19644                 0        0        0           0      ...        \n19645                 0        0        0           0      ...        \n19646                 0        0        0           0      ...        \n19647                 0        0        0           0      ...        \n19648                 0        0        0           0      ...        \n19649                 0        0        0           0      ...        \n19650                 0        0        0           0      ...        \n19651                 1        0        0           0      ...        \n19652                 0        0        0           0      ...        \n19653                 0        0        0           0      ...        \n19654                 0        0        0           0      ...        \n19655                 0        0        0           0      ...        \n19656                 0        0        0           0      ...        \n19657                 0        0        0           0      ...        \n19658                 0        0        0           0      ...        \n19659                 0        0        0           0      ...        \n19660                 0        0        0           0      ...        \n19661                 0        0        1           0      ...        \n\n      aid_centers other_infrastructure weather_related floods storm fire  \\\n0               0                    0               0      0     0    0   \n1               0                    0               0      0     0    0   \n2               0                    0               0      0     0    0   \n3               0                    0               0      0     0    0   \n4               0                    0               0      0     0    0   \n5               0                    0               1      0     1    0   \n6               0                    0               0      0     0    0   \n7               0                    0               0      0     0    0   \n8               0                    0               0      0     0    0   \n9               0                    0               0      0     0    0   \n10              1                    1               1      1     1    1   \n11              0                    0               0      0     0    0   \n12              0                    1               1      0     1    0   \n13              0                    0               1      0     0    0   \n14              0                    0               0      0     0    0   \n15              0                    0               0      0     0    0   \n16              0                    0               1      1     0    0   \n17              0                    0               0      0     0    0   \n18              0                    0               0      0     0    0   \n19              0                    0               0      0     0    0   \n20              0                    0               1      0     0    0   \n21              1                    0               0      0     0    0   \n22              0                    1               0      0     0    0   \n23              0                    0               0      0     0    0   \n24              0                    0               0      0     0    0   \n25              0                    0               0      0     0    0   \n26              0                    0               0      0     0    0   \n27              0                    0               0      0     0    0   \n28              0                    0               0      0     0    0   \n29              0                    0               0      0     0    0   \n...           ...                  ...             ...    ...   ...  ...   \n19632           0                    0               0      0     0    0   \n19633           0                    0               0      0     0    0   \n19634           0                    0               1      1     0    0   \n19635           0                    0               1      0     0    0   \n19636           0                    0               1      0     1    0   \n19637           0                    0               0      0     0    0   \n19638           0                    0               0      0     0    0   \n19639           0                    0               0      0     0    0   \n19640           0                    0               0      0     0    0   \n19641           0                    0               1      1     0    0   \n19642           0                    0               0      0     0    0   \n19643           0                    0               0      0     0    0   \n19644           0                    0               0      0     0    0   \n19645           0                    0               0      0     0    0   \n19646           0                    0               0      0     0    0   \n19647           0                    0               0      0     1    0   \n19648           0                    0               0      0     0    0   \n19649           0                    0               1      0     1    0   \n19650           0                    0               0      0     0    0   \n19651           0                    0               1      0     0    0   \n19652           0                    0               1      0     0    0   \n19653           0                    0               1      0     0    0   \n19654           0                    0               0      0     0    0   \n19655           0                    0               0      0     0    0   \n19656           1                    0               1      0     0    1   \n19657           0                    0               0      0     0    0   \n19658           0                    0               0      0     0    0   \n19659           0                    0               0      0     0    0   \n19660           0                    0               1      1     1    0   \n19661           0                    0               0      0     0    0   \n\n      earthquake cold other_weather direct_report  \n0              0    0             0             0  \n1              0    0             0             0  \n2              0    0             0             0  \n3              0    0             0             0  \n4              0    0             0             0  \n5              0    0             0             0  \n6              0    0             0             0  \n7              0    0             0             1  \n8              0    0             0             0  \n9              0    0             0             0  \n10             1    0             0             0  \n11             0    0             0             1  \n12             0    0             0             0  \n13             0    0             0             1  \n14             0    0             0             1  \n15             0    0             0             1  \n16             0    0             0             0  \n17             0    0             0             0  \n18             0    0             0             0  \n19             0    0             0             0  \n20             1    0             0             1  \n21             0    0             0             0  \n22             0    0             0             0  \n23             0    0             0             0  \n24             0    0             0             0  \n25             0    0             0             0  \n26             0    0             0             0  \n27             0    0             0             0  \n28             0    0             0             0  \n29             0    0             0             0  \n...          ...  ...           ...           ...  \n19632          0    0             0             1  \n19633          0    0             0             0  \n19634          0    0             0             0  \n19635          1    0             0             0  \n19636          0    0             0             0  \n19637          0    0             0             0  \n19638          0    0             0             0  \n19639          0    0             0             0  \n19640          0    0             0             0  \n19641          0    0             0             0  \n19642          0    0             0             0  \n19643          0    0             0             0  \n19644          0    0             0             0  \n19645          0    0             0             0  \n19646          0    0             0             0  \n19647          0    0             0             1  \n19648          0    0             0             0  \n19649          0    0             0             0  \n19650          0    0             0             1  \n19651          1    0             0             0  \n19652          1    0             0             0  \n19653          0    0             0             0  \n19654          0    0             0             1  \n19655          0    0             0             0  \n19656          0    0             0             0  \n19657          0    0             0             0  \n19658          0    0             0             1  \n19659          0    0             0             0  \n19660          0    0             1             0  \n19661          0    0             0             0  \n\n[19662 rows x 36 columns])"
     ]
    }
   ],
   "source": [
    "# classification report on train set\n",
    "print(classification_report(y_train, y_rfc_trainpred, target_names=y.columns.values))"
   ]
  },
  {
   "cell_type": "code",
   "execution_count": null,
   "metadata": {},
   "outputs": [],
   "source": [
    "# Model accuracy score on train dataset\n",
    "rfc_test_accuracy = (y_rfc_trainpred == y_train).mean()\n",
    "print(rfc_test_accuracy)"
   ]
  },
  {
   "cell_type": "code",
   "execution_count": null,
   "metadata": {},
   "outputs": [],
   "source": []
  },
  {
   "cell_type": "code",
   "execution_count": null,
   "metadata": {},
   "outputs": [],
   "source": [
    "# predict on test set\n",
    "y_rfc_testpred = rfc_pipe.predict(X_test)"
   ]
  },
  {
   "cell_type": "code",
   "execution_count": null,
   "metadata": {},
   "outputs": [],
   "source": [
    "y_rfc_testpred "
   ]
  },
  {
   "cell_type": "code",
   "execution_count": null,
   "metadata": {},
   "outputs": [],
   "source": [
    "#convert predicted data from numpy array to dataframe\n",
    "y_rfc_testpred = pd.DataFrame(y_rfc_testpred, columns = [y.columns.values])"
   ]
  },
  {
   "cell_type": "code",
   "execution_count": null,
   "metadata": {},
   "outputs": [],
   "source": [
    "y_rfc_testpred.head() "
   ]
  },
  {
   "cell_type": "code",
   "execution_count": null,
   "metadata": {},
   "outputs": [],
   "source": [
    "y_test.head()"
   ]
  },
  {
   "cell_type": "code",
   "execution_count": null,
   "metadata": {},
   "outputs": [],
   "source": [
    "#reset index for y_test\n",
    "y_test=y_test.reset_index(drop=True)\n",
    "y_test.head()"
   ]
  },
  {
   "cell_type": "code",
   "execution_count": null,
   "metadata": {},
   "outputs": [],
   "source": [
    "y.columns.values"
   ]
  },
  {
   "cell_type": "code",
   "execution_count": null,
   "metadata": {},
   "outputs": [],
   "source": [
    "len(y.columns.values)"
   ]
  },
  {
   "cell_type": "code",
   "execution_count": null,
   "metadata": {},
   "outputs": [],
   "source": [
    "# classification report on test set\n",
    "print(classification_report(y_test, y_rfc_testpred, target_names=y.columns.values))"
   ]
  },
  {
   "cell_type": "code",
   "execution_count": null,
   "metadata": {},
   "outputs": [],
   "source": [
    "# Model accuracy score on test test\n",
    "rfc_test_accuracy = (y_rfc_testpred == y_test).mean()\n",
    "print(rfc_test_accuracy)"
   ]
  },
  {
   "cell_type": "markdown",
   "metadata": {},
   "source": [
    "### 6. Improve your model\n",
    "Use grid search to find better parameters. "
   ]
  },
  {
   "cell_type": "code",
   "execution_count": 48,
   "metadata": {},
   "outputs": [],
   "source": [
    "parameters = {'clf__estimator__n_estimators':[100,200],\n",
    "              'clf__estimator__max_depth':[5]}\n",
    "\n",
    "# create grid search object #model=gridsearch\n",
    "grid_rfc = GridSearchCV(rfc_pipe, param_grid=parameters , cv=3, verbose=2)"
   ]
  },
  {
   "cell_type": "code",
   "execution_count": 49,
   "metadata": {},
   "outputs": [
    {
     "name": "stdout",
     "output_type": "stream",
     "text": [
      "Fitting 3 folds for each of 2 candidates, totalling 6 fits\n",
      "[CV] clf__estimator__max_depth=5, clf__estimator__n_estimators=100 ...\n",
      "[CV]  clf__estimator__max_depth=5, clf__estimator__n_estimators=100, score=0.19118095819346964, total= 1.7min\n",
      "[CV] clf__estimator__max_depth=5, clf__estimator__n_estimators=100 ...\n"
     ]
    },
    {
     "name": "stderr",
     "output_type": "stream",
     "text": [
      "[Parallel(n_jobs=1)]: Done   1 out of   1 | elapsed:  2.7min remaining:    0.0s\n"
     ]
    },
    {
     "name": "stdout",
     "output_type": "stream",
     "text": [
      "[CV]  clf__estimator__max_depth=5, clf__estimator__n_estimators=100, score=0.19713152273420811, total= 1.7min\n",
      "[CV] clf__estimator__max_depth=5, clf__estimator__n_estimators=100 ...\n"
     ]
    },
    {
     "name": "stderr",
     "output_type": "stream",
     "text": [
      "[Parallel(n_jobs=1)]: Done   2 out of   2 | elapsed:  5.4min remaining:    0.0s\n"
     ]
    },
    {
     "name": "stdout",
     "output_type": "stream",
     "text": [
      "[CV]  clf__estimator__max_depth=5, clf__estimator__n_estimators=100, score=0.19743667989014344, total= 1.7min\n",
      "[CV] clf__estimator__max_depth=5, clf__estimator__n_estimators=200 ...\n",
      "[CV]  clf__estimator__max_depth=5, clf__estimator__n_estimators=200, score=0.19118095819346964, total= 1.9min\n",
      "[CV] clf__estimator__max_depth=5, clf__estimator__n_estimators=200 ...\n",
      "[CV]  clf__estimator__max_depth=5, clf__estimator__n_estimators=200, score=0.19728410131217577, total= 2.1min\n",
      "[CV] clf__estimator__max_depth=5, clf__estimator__n_estimators=200 ...\n",
      "[CV]  clf__estimator__max_depth=5, clf__estimator__n_estimators=200, score=0.19728410131217577, total= 1.9min\n"
     ]
    },
    {
     "name": "stderr",
     "output_type": "stream",
     "text": [
      "[Parallel(n_jobs=1)]: Done   6 out of   6 | elapsed: 17.3min finished\n"
     ]
    },
    {
     "data": {
      "text/plain": [
       "GridSearchCV(cv=3, error_score='raise',\n",
       "       estimator=Pipeline(memory=None,\n",
       "     steps=[('vect', CountVectorizer(analyzer='word', binary=False, decode_error='strict',\n",
       "        dtype=<class 'numpy.int64'>, encoding='utf-8', input='content',\n",
       "        lowercase=True, max_df=1.0, max_features=None, min_df=1,\n",
       "        ngram_range=(1, 1), preprocessor=None, stop_words=None,\n",
       "        strip...oob_score=False, random_state=None, verbose=0,\n",
       "            warm_start=False),\n",
       "           n_jobs=1))]),\n",
       "       fit_params=None, iid=True, n_jobs=1,\n",
       "       param_grid={'clf__estimator__n_estimators': [100, 200], 'clf__estimator__max_depth': [5]},\n",
       "       pre_dispatch='2*n_jobs', refit=True, return_train_score='warn',\n",
       "       scoring=None, verbose=3)"
      ]
     },
     "execution_count": 49,
     "metadata": {},
     "output_type": "execute_result"
    }
   ],
   "source": [
    "grid_rfc.fit(X_train,y_train)"
   ]
  },
  {
   "cell_type": "code",
   "execution_count": 50,
   "metadata": {},
   "outputs": [
    {
     "data": {
      "text/plain": [
       "{'clf__estimator__max_depth': 5, 'clf__estimator__n_estimators': 100}"
      ]
     },
     "execution_count": 50,
     "metadata": {},
     "output_type": "execute_result"
    }
   ],
   "source": [
    "grid_rfc.best_params_\n"
   ]
  },
  {
   "cell_type": "code",
   "execution_count": 51,
   "metadata": {},
   "outputs": [],
   "source": [
    "y_grid_rfc_testpred = grid_rfc.predict(X_test)\n"
   ]
  },
  {
   "cell_type": "code",
   "execution_count": 52,
   "metadata": {},
   "outputs": [
    {
     "name": "stdout",
     "output_type": "stream",
     "text": [
      "Grid tree Test Scores\n"
     ]
    },
    {
     "ename": "ValueError",
     "evalue": "Mix type of y not allowed, got types {'multiclass-multioutput', 'multilabel-indicator'}",
     "output_type": "error",
     "traceback": [
      "\u001b[0;31m---------------------------------------------------------------------------\u001b[0m",
      "\u001b[0;31mValueError\u001b[0m                                Traceback (most recent call last)",
      "\u001b[0;32m<ipython-input-52-6b367758cf41>\u001b[0m in \u001b[0;36m<module>\u001b[0;34m()\u001b[0m\n\u001b[1;32m      1\u001b[0m \u001b[0;31m# classification report on test set\u001b[0m\u001b[0;34m\u001b[0m\u001b[0;34m\u001b[0m\u001b[0m\n\u001b[1;32m      2\u001b[0m \u001b[0mprint\u001b[0m\u001b[0;34m(\u001b[0m\u001b[0;34m'Grid tree Test Scores'\u001b[0m\u001b[0;34m)\u001b[0m\u001b[0;34m\u001b[0m\u001b[0m\n\u001b[0;32m----> 3\u001b[0;31m \u001b[0mprint\u001b[0m\u001b[0;34m(\u001b[0m\u001b[0mclassification_report\u001b[0m\u001b[0;34m(\u001b[0m\u001b[0my_test\u001b[0m\u001b[0;34m.\u001b[0m\u001b[0mvalues\u001b[0m\u001b[0;34m,\u001b[0m \u001b[0my_grid_rfc_testpred\u001b[0m\u001b[0;34m,\u001b[0m \u001b[0mtarget_names\u001b[0m\u001b[0;34m=\u001b[0m\u001b[0my\u001b[0m\u001b[0;34m.\u001b[0m\u001b[0mcolumns\u001b[0m\u001b[0;34m.\u001b[0m\u001b[0mvalues\u001b[0m\u001b[0;34m)\u001b[0m\u001b[0;34m)\u001b[0m\u001b[0;34m\u001b[0m\u001b[0m\n\u001b[0m\u001b[1;32m      4\u001b[0m \u001b[0mprint\u001b[0m\u001b[0;34m(\u001b[0m\u001b[0;34m'\\n'\u001b[0m\u001b[0;34m)\u001b[0m\u001b[0;34m\u001b[0m\u001b[0m\n\u001b[1;32m      5\u001b[0m \u001b[0;34m\u001b[0m\u001b[0m\n",
      "\u001b[0;32m/opt/conda/lib/python3.6/site-packages/sklearn/metrics/classification.py\u001b[0m in \u001b[0;36mclassification_report\u001b[0;34m(y_true, y_pred, labels, target_names, sample_weight, digits)\u001b[0m\n\u001b[1;32m   1419\u001b[0m \u001b[0;34m\u001b[0m\u001b[0m\n\u001b[1;32m   1420\u001b[0m     \u001b[0;32mif\u001b[0m \u001b[0mlabels\u001b[0m \u001b[0;32mis\u001b[0m \u001b[0;32mNone\u001b[0m\u001b[0;34m:\u001b[0m\u001b[0;34m\u001b[0m\u001b[0m\n\u001b[0;32m-> 1421\u001b[0;31m         \u001b[0mlabels\u001b[0m \u001b[0;34m=\u001b[0m \u001b[0munique_labels\u001b[0m\u001b[0;34m(\u001b[0m\u001b[0my_true\u001b[0m\u001b[0;34m,\u001b[0m \u001b[0my_pred\u001b[0m\u001b[0;34m)\u001b[0m\u001b[0;34m\u001b[0m\u001b[0m\n\u001b[0m\u001b[1;32m   1422\u001b[0m     \u001b[0;32melse\u001b[0m\u001b[0;34m:\u001b[0m\u001b[0;34m\u001b[0m\u001b[0m\n\u001b[1;32m   1423\u001b[0m         \u001b[0mlabels\u001b[0m \u001b[0;34m=\u001b[0m \u001b[0mnp\u001b[0m\u001b[0;34m.\u001b[0m\u001b[0masarray\u001b[0m\u001b[0;34m(\u001b[0m\u001b[0mlabels\u001b[0m\u001b[0;34m)\u001b[0m\u001b[0;34m\u001b[0m\u001b[0m\n",
      "\u001b[0;32m/opt/conda/lib/python3.6/site-packages/sklearn/utils/multiclass.py\u001b[0m in \u001b[0;36munique_labels\u001b[0;34m(*ys)\u001b[0m\n\u001b[1;32m     81\u001b[0m \u001b[0;34m\u001b[0m\u001b[0m\n\u001b[1;32m     82\u001b[0m     \u001b[0;32mif\u001b[0m \u001b[0mlen\u001b[0m\u001b[0;34m(\u001b[0m\u001b[0mys_types\u001b[0m\u001b[0;34m)\u001b[0m \u001b[0;34m>\u001b[0m \u001b[0;36m1\u001b[0m\u001b[0;34m:\u001b[0m\u001b[0;34m\u001b[0m\u001b[0m\n\u001b[0;32m---> 83\u001b[0;31m         \u001b[0;32mraise\u001b[0m \u001b[0mValueError\u001b[0m\u001b[0;34m(\u001b[0m\u001b[0;34m\"Mix type of y not allowed, got types %s\"\u001b[0m \u001b[0;34m%\u001b[0m \u001b[0mys_types\u001b[0m\u001b[0;34m)\u001b[0m\u001b[0;34m\u001b[0m\u001b[0m\n\u001b[0m\u001b[1;32m     84\u001b[0m \u001b[0;34m\u001b[0m\u001b[0m\n\u001b[1;32m     85\u001b[0m     \u001b[0mlabel_type\u001b[0m \u001b[0;34m=\u001b[0m \u001b[0mys_types\u001b[0m\u001b[0;34m.\u001b[0m\u001b[0mpop\u001b[0m\u001b[0;34m(\u001b[0m\u001b[0;34m)\u001b[0m\u001b[0;34m\u001b[0m\u001b[0m\n",
      "\u001b[0;31mValueError\u001b[0m: Mix type of y not allowed, got types {'multiclass-multioutput', 'multilabel-indicator'}"
     ]
    }
   ],
   "source": [
    "# classification report on test set\n",
    "print('Grid tree Test Scores')\n",
    "print(classification_report(y_test.values, y_grid_rfc_testpred, target_names=y.columns.values))\n",
    "print('\\n')\n",
    "\n",
    "# accuracy score on test set\n",
    "print('Grid tree Accuracy')\n",
    "gridtree_test_accuracy = (y_grid_rfc_testpred == y_test).mean()\n",
    "print(grid_rfc_test_accuracy)"
   ]
  },
  {
   "cell_type": "markdown",
   "metadata": {},
   "source": [
    "### 7. Test your model\n",
    "Show the accuracy, precision, and recall of the tuned model.  \n",
    "\n",
    "Since this project focuses on code quality, process, and  pipelines, there is no minimum performance metric needed to pass. However, make sure to fine tune your models for accuracy, precision and recall to make your project stand out - especially for your portfolio!"
   ]
  },
  {
   "cell_type": "code",
   "execution_count": null,
   "metadata": {},
   "outputs": [],
   "source": [
    "\n",
    "grid_rfc.best_params_"
   ]
  },
  {
   "cell_type": "code",
   "execution_count": null,
   "metadata": {},
   "outputs": [],
   "source": [
    "y_gridrfc_trainpred = grid_rfc.predict(X_train)\n",
    "y_gridrfc_testpred = grid_rfc.predict(X_test)"
   ]
  },
  {
   "cell_type": "code",
   "execution_count": null,
   "metadata": {},
   "outputs": [],
   "source": [
    "# classification report on train set\n",
    "print('Grid rfc Train Scores')\n",
    "print(classification_report(y_train.values, y_gridrfc_trainpred, target_names=y.columns.values))\n",
    "print('\\n')\n",
    "\n",
    "# classification report on test set\n",
    "print('Grid rfc Test Scores')\n",
    "print(classification_report(y_test.values, y_gridrfc_testpred, target_names=y.columns.values))\n",
    "print('\\n')\n",
    "\n",
    "# accuracy score on test set\n",
    "print('GridSearch rfc Accuracy')\n",
    "gridrfc_test_accuracy = (y_gridrfc_testpred == y_test).mean()\n",
    "print(gridrfc_test_accuracy)"
   ]
  },
  {
   "cell_type": "code",
   "execution_count": null,
   "metadata": {},
   "outputs": [],
   "source": [
    "grid_rfc.fit(X_train,y_train)\n"
   ]
  },
  {
   "cell_type": "code",
   "execution_count": null,
   "metadata": {},
   "outputs": [],
   "source": [
    "# compare with rfc without gridsearch tuning\n",
    "gridrfc_test_accuracy - rfc_test_accuracy"
   ]
  },
  {
   "cell_type": "markdown",
   "metadata": {},
   "source": [
    "### 8. Try improving your model further. Here are a few ideas:\n",
    "* try other machine learning algorithms\n",
    "* add other features besides the TF-IDF"
   ]
  },
  {
   "cell_type": "markdown",
   "metadata": {},
   "source": [
    "#### MODEL 2. KNN"
   ]
  },
  {
   "cell_type": "code",
   "execution_count": null,
   "metadata": {},
   "outputs": [],
   "source": [
    "  knn_pipeline = Pipeline([\n",
    "        ('vect', CountVectorizer(tokenizer=tokenize)),\n",
    "        ('tfidf', TfidfTransformer()),\n",
    "        ('clf', MultiOutputClassifier(KNeighborsClassifier()))\n",
    "    ])"
   ]
  },
  {
   "cell_type": "code",
   "execution_count": null,
   "metadata": {},
   "outputs": [],
   "source": [
    "knn_pipeline.get_params()"
   ]
  },
  {
   "cell_type": "code",
   "execution_count": null,
   "metadata": {},
   "outputs": [],
   "source": [
    "# train the pipeline\n",
    "knn_pipeline.fit(X_train,y_train)"
   ]
  },
  {
   "cell_type": "code",
   "execution_count": null,
   "metadata": {},
   "outputs": [],
   "source": [
    "# predict on train set\n",
    "y_knn_trainpred = knn_pipeline.predict(X_train)"
   ]
  },
  {
   "cell_type": "code",
   "execution_count": null,
   "metadata": {},
   "outputs": [],
   "source": [
    "# classification report on test set\n",
    "print(classification_report(y_test, y_knn_testpred, target_names=y.columns.values))"
   ]
  },
  {
   "cell_type": "code",
   "execution_count": null,
   "metadata": {},
   "outputs": [],
   "source": [
    "# Model accuracy score on train dataset\n",
    "knn_test_accuracy = (y_knn_trainpred == y_train).mean()\n",
    "print(knn_test_accuracy)"
   ]
  },
  {
   "cell_type": "code",
   "execution_count": null,
   "metadata": {},
   "outputs": [],
   "source": []
  },
  {
   "cell_type": "markdown",
   "metadata": {},
   "source": [
    "### 9. Export your model as a pickle file"
   ]
  },
  {
   "cell_type": "code",
   "execution_count": null,
   "metadata": {},
   "outputs": [],
   "source": [
    "import pickle\n",
    "pickle.dump(grid_rfc,open(model_filepath,'wb'))"
   ]
  },
  {
   "cell_type": "markdown",
   "metadata": {},
   "source": [
    "### 10. Use this notebook to complete `train.py`\n",
    "Use the template file attached in the Resources folder to write a script that runs the steps above to create a database and export a model based on a new dataset specified by the user."
   ]
  },
  {
   "cell_type": "code",
   "execution_count": null,
   "metadata": {},
   "outputs": [],
   "source": []
  }
 ],
 "metadata": {
  "kernelspec": {
   "display_name": "Python 3",
   "language": "python",
   "name": "python3"
  },
  "language_info": {
   "codemirror_mode": {
    "name": "ipython",
    "version": 3
   },
   "file_extension": ".py",
   "mimetype": "text/x-python",
   "name": "python",
   "nbconvert_exporter": "python",
   "pygments_lexer": "ipython3",
   "version": "3.6.3"
  }
 },
 "nbformat": 4,
 "nbformat_minor": 2
}
